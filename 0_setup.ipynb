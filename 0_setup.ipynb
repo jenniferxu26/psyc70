{
 "cells": [
  {
   "metadata": {},
   "cell_type": "markdown",
   "source": [
    "# 0_setup.ipynb\n",
    "\n",
    "This code aligns EEG recordings with Bitcoin price for every 1-minute."
   ],
   "id": "b2fd3725c8630451"
  },
  {
   "metadata": {
    "ExecuteTime": {
     "end_time": "2025-06-05T22:27:42.410823Z",
     "start_time": "2025-06-05T22:27:41.355744Z"
    }
   },
   "cell_type": "code",
   "source": [
    "import os\n",
    "from pathlib import Path\n",
    "import pandas as pd\n",
    "import numpy as np\n",
    "import yfinance as yf\n",
    "import mne\n",
    "import backtrader as bt\n",
    "import requests, time\n",
    "from datetime import datetime, timedelta"
   ],
   "id": "cad3114e7ed29ec5",
   "outputs": [],
   "execution_count": 1
  },
  {
   "metadata": {},
   "cell_type": "markdown",
   "source": [
    "# 1. Load & clean EEG\n",
    "* Convert epoch timestamps --> UTC timezone pandas index\n",
    "* Fill missing values with forward/backward fill"
   ],
   "id": "22d44acf37c992a"
  },
  {
   "metadata": {
    "ExecuteTime": {
     "end_time": "2025-06-05T22:27:42.742564Z",
     "start_time": "2025-06-05T22:27:42.695916Z"
    }
   },
   "cell_type": "code",
   "source": [
    "## read EEG CSV\n",
    "EEG_PATH = Path(\"data\") / \"waves_metrics.csv\"\n",
    "eeg = pd.read_csv(EEG_PATH)\n",
    "\n",
    "# remove unnamed columns\n",
    "unnamed_cols = [c for c in eeg.columns if c.lower().startswith(\"unnamed\")]\n",
    "if unnamed_cols:\n",
    "    eeg = eeg.drop(columns=unnamed_cols)\n",
    "\n",
    "# standardize column names\n",
    "eeg = eeg.rename(columns=lambda c: c.strip())\n",
    "alias_map = {\n",
    "    \"HighBetta\": \"HighBeta\",\n",
    "    \"High-Betta\": \"HighBeta\",\n",
    "    \"High-Beta\": \"HighBeta\",\n",
    "    \"LowBetta\": \"LowBeta\",\n",
    "    \"Low-Beta\": \"LowBeta\",\n",
    "    \"Low‑Beta\": \"LowBeta\",\n",
    "    \"Low-Gamma\": \"LowGamma\",\n",
    "    \"Low‑Gamma\": \"LowGamma\",\n",
    "}\n",
    "eeg = eeg.rename(columns=alias_map)"
   ],
   "id": "d14d249cdb1adfea",
   "outputs": [],
   "execution_count": 2
  },
  {
   "metadata": {
    "ExecuteTime": {
     "end_time": "2025-06-05T22:27:42.789588Z",
     "start_time": "2025-06-05T22:27:42.775579Z"
    }
   },
   "cell_type": "code",
   "source": [
    "# convert timestamp to UTC (standardize timezone)\n",
    "eeg[\"ts\"] = pd.to_datetime(eeg[\"Ts\"], unit=\"s\", utc=True)\n",
    "eeg = eeg.set_index(\"ts\").sort_index()"
   ],
   "id": "b2fd8a2b57488228",
   "outputs": [],
   "execution_count": 3
  },
  {
   "metadata": {
    "ExecuteTime": {
     "end_time": "2025-06-05T22:27:42.820598Z",
     "start_time": "2025-06-05T22:27:42.805595Z"
    }
   },
   "cell_type": "code",
   "source": [
    "# fill missing values (forward/backward fill, then drop)\n",
    "na_tot = eeg.isna().sum().sum()\n",
    "if na_tot:\n",
    "    print(f\"Found {na_tot:,} NaNs in EEG — applying forward/backward fill …\")\n",
    "    eeg = eeg.ffill().bfill()\n",
    "    na_after = eeg.isna().sum().sum()\n",
    "    if na_after:\n",
    "        print(f\"   {na_after:,} NaNs remain → dropping those rows.\")\n",
    "        eeg = eeg.dropna()"
   ],
   "id": "b88cd21850fa8121",
   "outputs": [
    {
     "name": "stdout",
     "output_type": "stream",
     "text": [
      "Found 1,076 NaNs in EEG — applying forward/backward fill …\n"
     ]
    }
   ],
   "execution_count": 4
  },
  {
   "metadata": {
    "ExecuteTime": {
     "end_time": "2025-06-05T22:27:42.852605Z",
     "start_time": "2025-06-05T22:27:42.837602Z"
    }
   },
   "cell_type": "code",
   "source": [
    "# check\n",
    "print(f\"Loaded EEG: {len(eeg):,} rows, {eeg.shape[1]} cols\")"
   ],
   "id": "d2c80b04ddcf5431",
   "outputs": [
    {
     "name": "stdout",
     "output_type": "stream",
     "text": [
      "Loaded EEG: 19,350 rows, 16 cols\n"
     ]
    }
   ],
   "execution_count": 5
  },
  {
   "metadata": {},
   "cell_type": "markdown",
   "source": "# 2. Download & clean Bitcoin data",
   "id": "75c6417c94f0fce3"
  },
  {
   "metadata": {
    "ExecuteTime": {
     "end_time": "2025-06-05T22:27:42.900592Z",
     "start_time": "2025-06-05T22:27:42.885589Z"
    }
   },
   "cell_type": "code",
   "source": [
    "# align time range with EEG\n",
    "EEG_START: datetime = eeg.index.min()\n",
    "EEG_END: datetime = eeg.index.max()\n",
    "print(f\"Time range: {EEG_START} to {EEG_END}\")"
   ],
   "id": "e222176fdfeb623",
   "outputs": [
    {
     "name": "stdout",
     "output_type": "stream",
     "text": [
      "Time range: 2022-01-24 05:38:30+00:00 to 2022-02-25 02:30:02+00:00\n"
     ]
    }
   ],
   "execution_count": 6
  },
  {
   "metadata": {
    "ExecuteTime": {
     "end_time": "2025-06-05T22:27:56.351697Z",
     "start_time": "2025-06-05T22:27:42.917596Z"
    }
   },
   "cell_type": "code",
   "source": [
    "def fetch_binance_us_1min(symbol: str, start_dt: datetime, end_dt: datetime) -> pd.DataFrame:\n",
    "    # pull 1-minute lines for \"BTCUSDT\" from Binance.US\n",
    "    url = \"https://api.binance.us/api/v3/klines\"\n",
    "    ms   = lambda dt: int(dt.timestamp() * 1000)\n",
    "\n",
    "    frames = []\n",
    "    cur = start_dt\n",
    "    while cur < end_dt:\n",
    "        # Binance pulls 1000 rows at once (1000 minutes = 5 days)\n",
    "        chunk_end = min(cur + timedelta(days=5), end_dt)\n",
    "\n",
    "        # request query\n",
    "        params = dict(symbol=symbol, interval=\"1m\", startTime=ms(cur), endTime=ms(chunk_end), limit=1000,)\n",
    "        r = requests.get(url, params=params, timeout=10)\n",
    "        r.raise_for_status()\n",
    "        raw = r.json()\n",
    "        if not raw:     # market closed\n",
    "            break\n",
    "\n",
    "        # convert JSON into DataFrame\n",
    "        df = pd.DataFrame(raw, columns=[\n",
    "            \"open_time\",\"Open\",\"High\",\"Low\",\"Close\",\"Volume\",\n",
    "            \"close_time\",\"q\",\"n\",\"taker_base\",\"taker_quote\",\"ignore\"\n",
    "        ])\n",
    "\n",
    "        # timestamps in UTC datetimes\n",
    "        df[\"open_time\"] = pd.to_datetime(df[\"open_time\"], unit=\"ms\", utc=True)\n",
    "        df.set_index(\"open_time\", inplace=True)\n",
    "\n",
    "        # filter columns\n",
    "        df = df[[\"Open\",\"High\",\"Low\",\"Close\",\"Volume\"]].astype(float)\n",
    "        frames.append(df)\n",
    "\n",
    "        # advance 1ms past last close_time\n",
    "        cur = pd.to_datetime(raw[-1][6], unit=\"ms\", utc=True) + timedelta(milliseconds=1)\n",
    "        time.sleep(0.2)     # public API, stay under 5/s limit\n",
    "\n",
    "    # combine chunks together, sort, filter window, drop duplicates\n",
    "    btc_1m = (\n",
    "        pd.concat(frames).sort_index()\n",
    "        .loc[start_dt:end_dt]\n",
    "        .loc[lambda df_: ~df_.index.duplicated()]\n",
    "    )\n",
    "    return btc_1m\n",
    "\n",
    "btc_1m = fetch_binance_us_1min(\"BTCUSDT\", EEG_START, EEG_END)"
   ],
   "id": "d40c541e6e2b5522",
   "outputs": [],
   "execution_count": 7
  },
  {
   "metadata": {
    "ExecuteTime": {
     "end_time": "2025-06-05T22:27:56.383705Z",
     "start_time": "2025-06-05T22:27:56.368702Z"
    }
   },
   "cell_type": "code",
   "source": [
    "# check\n",
    "print(f\"Loaded BTC: {len(btc_1m):,} rows, {btc_1m.shape[1]} cols\")"
   ],
   "id": "b426be42b294c855",
   "outputs": [
    {
     "name": "stdout",
     "output_type": "stream",
     "text": [
      "Loaded BTC: 45,858 rows, 5 cols\n"
     ]
    }
   ],
   "execution_count": 8
  },
  {
   "metadata": {},
   "cell_type": "markdown",
   "source": "# 3. Align & save",
   "id": "a951e3ddf120a7cf"
  },
  {
   "metadata": {
    "ExecuteTime": {
     "end_time": "2025-06-05T22:27:56.655766Z",
     "start_time": "2025-06-05T22:27:56.400708Z"
    }
   },
   "cell_type": "code",
   "source": [
    "# check both indexes in UTC\n",
    "eeg.index = eeg.index.tz_localize(\"UTC\") if eeg.index.tz is None else eeg.index.tz_convert(\"UTC\")\n",
    "btc_1m.index = btc_1m.index.tz_localize(\"UTC\") if btc_1m.index.tz is None else btc_1m.index.tz_convert(\"UTC\")\n",
    "\n",
    "# forward-fill\n",
    "btc_1s = (btc_1m[\"Close\"].resample(\"1S\").ffill(60).reindex(eeg.index))"
   ],
   "id": "20f1dee665fccd17",
   "outputs": [
    {
     "name": "stderr",
     "output_type": "stream",
     "text": [
      "C:\\Users\\bb\\AppData\\Local\\Temp\\ipykernel_17584\\3786350996.py:6: FutureWarning: 'S' is deprecated and will be removed in a future version, please use 's' instead.\n",
      "  btc_1s = (btc_1m[\"Close\"].resample(\"1S\").ffill(60).reindex(eeg.index))\n"
     ]
    }
   ],
   "execution_count": 9
  },
  {
   "metadata": {
    "ExecuteTime": {
     "end_time": "2025-06-05T22:27:56.687773Z",
     "start_time": "2025-06-05T22:27:56.672770Z"
    }
   },
   "cell_type": "code",
   "source": [
    "## keep only full minute (second==0)\n",
    "btc_full_min = btc_1s[btc_1s.index.second == 0]\n",
    "eeg_full_min = eeg[eeg.index.second == 0]\n",
    "\n",
    "# check intersection, identical time per row\n",
    "common_idx = eeg_full_min.index.intersection(btc_full_min.index)\n",
    "eeg_full_min = eeg_full_min.loc[common_idx]\n",
    "btc_full_min = btc_full_min.loc[common_idx]"
   ],
   "id": "846935b027a6ed64",
   "outputs": [],
   "execution_count": 10
  },
  {
   "metadata": {
    "ExecuteTime": {
     "end_time": "2025-06-05T22:27:56.735595Z",
     "start_time": "2025-06-05T22:27:56.720592Z"
    }
   },
   "cell_type": "code",
   "source": [
    "# save files\n",
    "btc_full_min.to_csv(\"data/raw/btc_1min.csv\")\n",
    "eeg_full_min.to_csv(\"data/raw/eeg_1min.csv\")"
   ],
   "id": "76e635ea1a655e9a",
   "outputs": [],
   "execution_count": 11
  }
 ],
 "metadata": {
  "kernelspec": {
   "display_name": "Python [conda env:base] *",
   "language": "python",
   "name": "conda-base-py"
  },
  "language_info": {
   "codemirror_mode": {
    "name": "ipython",
    "version": 2
   },
   "file_extension": ".py",
   "mimetype": "text/x-python",
   "name": "python",
   "nbconvert_exporter": "python",
   "pygments_lexer": "ipython2",
   "version": "2.7.6"
  }
 },
 "nbformat": 4,
 "nbformat_minor": 5
}
